{
 "cells": [
  {
   "cell_type": "markdown",
   "metadata": {},
   "source": [
    "## Observations and Insights "
   ]
  },
  {
   "cell_type": "markdown",
   "metadata": {},
   "source": []
  },
  {
   "cell_type": "code",
   "execution_count": 6,
   "metadata": {},
   "outputs": [
    {
     "output_type": "execute_result",
     "data": {
      "text/plain": "     Mouse ID Drug Regimen     Sex  Age_months  Weight (g)  Timepoint  \\\n0        k403     Ramicane    Male        21.0        16.0        NaN   \n1        s185    Capomulin  Female         3.0        17.0        NaN   \n2        x401    Capomulin  Female        16.0        15.0        NaN   \n3        m601    Capomulin    Male        22.0        17.0        NaN   \n4        g791     Ramicane    Male        11.0        16.0        NaN   \n...       ...          ...     ...         ...         ...        ...   \n1888     r944          NaN     NaN         NaN         NaN       45.0   \n1889     u364          NaN     NaN         NaN         NaN       45.0   \n1890     p438          NaN     NaN         NaN         NaN       45.0   \n1891     x773          NaN     NaN         NaN         NaN       45.0   \n1892     b879          NaN     NaN         NaN         NaN       45.0   \n\n      Tumor Volume (mm3)  Metastatic Sites  \n0                    NaN               NaN  \n1                    NaN               NaN  \n2                    NaN               NaN  \n3                    NaN               NaN  \n4                    NaN               NaN  \n...                  ...               ...  \n1888           41.581521               2.0  \n1889           31.023923               3.0  \n1890           61.433892               1.0  \n1891           58.634971               4.0  \n1892           72.555239               2.0  \n\n[2142 rows x 8 columns]",
      "text/html": "<div>\n<style scoped>\n    .dataframe tbody tr th:only-of-type {\n        vertical-align: middle;\n    }\n\n    .dataframe tbody tr th {\n        vertical-align: top;\n    }\n\n    .dataframe thead th {\n        text-align: right;\n    }\n</style>\n<table border=\"1\" class=\"dataframe\">\n  <thead>\n    <tr style=\"text-align: right;\">\n      <th></th>\n      <th>Mouse ID</th>\n      <th>Drug Regimen</th>\n      <th>Sex</th>\n      <th>Age_months</th>\n      <th>Weight (g)</th>\n      <th>Timepoint</th>\n      <th>Tumor Volume (mm3)</th>\n      <th>Metastatic Sites</th>\n    </tr>\n  </thead>\n  <tbody>\n    <tr>\n      <th>0</th>\n      <td>k403</td>\n      <td>Ramicane</td>\n      <td>Male</td>\n      <td>21.0</td>\n      <td>16.0</td>\n      <td>NaN</td>\n      <td>NaN</td>\n      <td>NaN</td>\n    </tr>\n    <tr>\n      <th>1</th>\n      <td>s185</td>\n      <td>Capomulin</td>\n      <td>Female</td>\n      <td>3.0</td>\n      <td>17.0</td>\n      <td>NaN</td>\n      <td>NaN</td>\n      <td>NaN</td>\n    </tr>\n    <tr>\n      <th>2</th>\n      <td>x401</td>\n      <td>Capomulin</td>\n      <td>Female</td>\n      <td>16.0</td>\n      <td>15.0</td>\n      <td>NaN</td>\n      <td>NaN</td>\n      <td>NaN</td>\n    </tr>\n    <tr>\n      <th>3</th>\n      <td>m601</td>\n      <td>Capomulin</td>\n      <td>Male</td>\n      <td>22.0</td>\n      <td>17.0</td>\n      <td>NaN</td>\n      <td>NaN</td>\n      <td>NaN</td>\n    </tr>\n    <tr>\n      <th>4</th>\n      <td>g791</td>\n      <td>Ramicane</td>\n      <td>Male</td>\n      <td>11.0</td>\n      <td>16.0</td>\n      <td>NaN</td>\n      <td>NaN</td>\n      <td>NaN</td>\n    </tr>\n    <tr>\n      <th>...</th>\n      <td>...</td>\n      <td>...</td>\n      <td>...</td>\n      <td>...</td>\n      <td>...</td>\n      <td>...</td>\n      <td>...</td>\n      <td>...</td>\n    </tr>\n    <tr>\n      <th>1888</th>\n      <td>r944</td>\n      <td>NaN</td>\n      <td>NaN</td>\n      <td>NaN</td>\n      <td>NaN</td>\n      <td>45.0</td>\n      <td>41.581521</td>\n      <td>2.0</td>\n    </tr>\n    <tr>\n      <th>1889</th>\n      <td>u364</td>\n      <td>NaN</td>\n      <td>NaN</td>\n      <td>NaN</td>\n      <td>NaN</td>\n      <td>45.0</td>\n      <td>31.023923</td>\n      <td>3.0</td>\n    </tr>\n    <tr>\n      <th>1890</th>\n      <td>p438</td>\n      <td>NaN</td>\n      <td>NaN</td>\n      <td>NaN</td>\n      <td>NaN</td>\n      <td>45.0</td>\n      <td>61.433892</td>\n      <td>1.0</td>\n    </tr>\n    <tr>\n      <th>1891</th>\n      <td>x773</td>\n      <td>NaN</td>\n      <td>NaN</td>\n      <td>NaN</td>\n      <td>NaN</td>\n      <td>45.0</td>\n      <td>58.634971</td>\n      <td>4.0</td>\n    </tr>\n    <tr>\n      <th>1892</th>\n      <td>b879</td>\n      <td>NaN</td>\n      <td>NaN</td>\n      <td>NaN</td>\n      <td>NaN</td>\n      <td>45.0</td>\n      <td>72.555239</td>\n      <td>2.0</td>\n    </tr>\n  </tbody>\n</table>\n<p>2142 rows × 8 columns</p>\n</div>"
     },
     "metadata": {},
     "execution_count": 6
    }
   ],
   "source": [
    "# Dependencies and Setup\n",
    "import matplotlib.pyplot as plt\n",
    "import pandas as pd\n",
    "import scipy.stats as st\n",
    "\n",
    "# Study data files\n",
    "mouse_metadata_path = \"data/Mouse_metadata.csv\"\n",
    "study_results_path = \"data/Study_results.csv\"\n",
    "\n",
    "# Read the mouse data and the study results\n",
    "mouse_metadata = pd.read_csv(mouse_metadata_path)\n",
    "study_results = pd.read_csv(study_results_path)\n",
    "\n",
    "# Combine the data into a single dataset\n",
    "data = [mouse_metadata, study_results]\n",
    "combined_data = pd.concat(data) \n",
    "\n",
    "# Display the data table for preview\n",
    "combined_data"
   ]
  },
  {
   "cell_type": "code",
   "execution_count": 7,
   "metadata": {},
   "outputs": [
    {
     "output_type": "execute_result",
     "data": {
      "text/plain": "array([&#39;k403&#39;, &#39;s185&#39;, &#39;x401&#39;, &#39;m601&#39;, &#39;g791&#39;, &#39;s508&#39;, &#39;f966&#39;, &#39;m546&#39;,\n       &#39;z578&#39;, &#39;j913&#39;, &#39;u364&#39;, &#39;n364&#39;, &#39;y793&#39;, &#39;r554&#39;, &#39;m957&#39;, &#39;c758&#39;,\n       &#39;t565&#39;, &#39;a644&#39;, &#39;i177&#39;, &#39;j989&#39;, &#39;i738&#39;, &#39;a520&#39;, &#39;w914&#39;, &#39;r811&#39;,\n       &#39;g288&#39;, &#39;i334&#39;, &#39;q610&#39;, &#39;d251&#39;, &#39;l897&#39;, &#39;c458&#39;, &#39;b742&#39;, &#39;b128&#39;,\n       &#39;j246&#39;, &#39;a411&#39;, &#39;j119&#39;, &#39;w150&#39;, &#39;v923&#39;, &#39;g316&#39;, &#39;s710&#39;, &#39;l509&#39;,\n       &#39;r944&#39;, &#39;e662&#39;, &#39;u196&#39;, &#39;q597&#39;, &#39;a444&#39;, &#39;i557&#39;, &#39;r921&#39;, &#39;w678&#39;,\n       &#39;y449&#39;, &#39;a203&#39;, &#39;a251&#39;, &#39;a262&#39;, &#39;a275&#39;, &#39;a366&#39;, &#39;a401&#39;, &#39;a457&#39;,\n       &#39;a492&#39;, &#39;a577&#39;, &#39;a685&#39;, &#39;a699&#39;, &#39;a788&#39;, &#39;a818&#39;, &#39;a897&#39;, &#39;a963&#39;,\n       &#39;b313&#39;, &#39;b447&#39;, &#39;b487&#39;, &#39;b559&#39;, &#39;b759&#39;, &#39;b879&#39;, &#39;c139&#39;, &#39;c264&#39;,\n       &#39;c282&#39;, &#39;c302&#39;, &#39;c326&#39;, &#39;c402&#39;, &#39;c559&#39;, &#39;c580&#39;, &#39;c757&#39;, &#39;c766&#39;,\n       &#39;c819&#39;, &#39;c832&#39;, &#39;c895&#39;, &#39;c927&#39;, &#39;d133&#39;, &#39;d164&#39;, &#39;d474&#39;, &#39;e213&#39;,\n       &#39;e227&#39;, &#39;e291&#39;, &#39;e476&#39;, &#39;e584&#39;, &#39;f129&#39;, &#39;f234&#39;, &#39;f278&#39;, &#39;f345&#39;,\n       &#39;f394&#39;, &#39;f436&#39;, &#39;f545&#39;, &#39;f932&#39;, &#39;f993&#39;, &#39;g107&#39;, &#39;g296&#39;, &#39;g497&#39;,\n       &#39;g558&#39;, &#39;g570&#39;, &#39;g867&#39;, &#39;g989&#39;, &#39;h246&#39;, &#39;h333&#39;, &#39;h428&#39;, &#39;h531&#39;,\n       &#39;i386&#39;, &#39;i477&#39;, &#39;i635&#39;, &#39;i669&#39;, &#39;i901&#39;, &#39;j235&#39;, &#39;j296&#39;, &#39;j365&#39;,\n       &#39;j755&#39;, &#39;j984&#39;, &#39;k210&#39;, &#39;k382&#39;, &#39;k483&#39;, &#39;k510&#39;, &#39;k603&#39;, &#39;k754&#39;,\n       &#39;k804&#39;, &#39;k862&#39;, &#39;k894&#39;, &#39;l215&#39;, &#39;l264&#39;, &#39;l471&#39;, &#39;l490&#39;, &#39;l558&#39;,\n       &#39;l661&#39;, &#39;l700&#39;, &#39;l725&#39;, &#39;l733&#39;, &#39;l872&#39;, &#39;m133&#39;, &#39;m269&#39;, &#39;m331&#39;,\n       &#39;m550&#39;, &#39;m650&#39;, &#39;m756&#39;, &#39;n304&#39;, &#39;n482&#39;, &#39;n630&#39;, &#39;n671&#39;, &#39;n678&#39;,\n       &#39;n763&#39;, &#39;n923&#39;, &#39;n967&#39;, &#39;o287&#39;, &#39;o302&#39;, &#39;o331&#39;, &#39;o523&#39;, &#39;o562&#39;,\n       &#39;o725&#39;, &#39;o795&#39;, &#39;o809&#39;, &#39;o813&#39;, &#39;o848&#39;, &#39;o926&#39;, &#39;o973&#39;, &#39;p136&#39;,\n       &#39;p189&#39;, &#39;p310&#39;, &#39;p387&#39;, &#39;p438&#39;, &#39;p981&#39;, &#39;q119&#39;, &#39;q132&#39;, &#39;q483&#39;,\n       &#39;q511&#39;, &#39;q582&#39;, &#39;q633&#39;, &#39;q787&#39;, &#39;r107&#39;, &#39;r157&#39;, &#39;r604&#39;, &#39;r701&#39;,\n       &#39;r850&#39;, &#39;s121&#39;, &#39;s141&#39;, &#39;s152&#39;, &#39;s166&#39;, &#39;s187&#39;, &#39;s337&#39;, &#39;s565&#39;,\n       &#39;s619&#39;, &#39;t198&#39;, &#39;t451&#39;, &#39;t573&#39;, &#39;t718&#39;, &#39;t724&#39;, &#39;t994&#39;, &#39;u149&#39;,\n       &#39;u153&#39;, &#39;u327&#39;, &#39;u946&#39;, &#39;v199&#39;, &#39;v289&#39;, &#39;v295&#39;, &#39;v339&#39;, &#39;v409&#39;,\n       &#39;v603&#39;, &#39;v719&#39;, &#39;v764&#39;, &#39;v766&#39;, &#39;v835&#39;, &#39;v989&#39;, &#39;v991&#39;, &#39;w140&#39;,\n       &#39;w151&#39;, &#39;w167&#39;, &#39;w193&#39;, &#39;w350&#39;, &#39;w422&#39;, &#39;w540&#39;, &#39;w575&#39;, &#39;w584&#39;,\n       &#39;w697&#39;, &#39;w746&#39;, &#39;x111&#39;, &#39;x209&#39;, &#39;x226&#39;, &#39;x264&#39;, &#39;x336&#39;, &#39;x402&#39;,\n       &#39;x581&#39;, &#39;x613&#39;, &#39;x773&#39;, &#39;x822&#39;, &#39;x930&#39;, &#39;y163&#39;, &#39;y260&#39;, &#39;y478&#39;,\n       &#39;y601&#39;, &#39;y769&#39;, &#39;y865&#39;, &#39;z234&#39;, &#39;z314&#39;, &#39;z435&#39;, &#39;z581&#39;, &#39;z795&#39;,\n       &#39;z969&#39;], dtype=object)"
     },
     "metadata": {},
     "execution_count": 7
    }
   ],
   "source": [
    "# Checking the number of mice.\n",
    "unique_data = combined_data[\"Mouse ID\"].unique()\n"
   ]
  },
  {
   "cell_type": "code",
   "execution_count": 3,
   "metadata": {},
   "outputs": [],
   "source": [
    "# Getting the duplicate mice by ID number that shows up for Mouse ID and Timepoint. \n",
    "\n"
   ]
  },
  {
   "cell_type": "code",
   "execution_count": 4,
   "metadata": {},
   "outputs": [],
   "source": [
    "# Optional: Get all the data for the duplicate mouse ID. \n",
    "\n"
   ]
  },
  {
   "cell_type": "code",
   "execution_count": 5,
   "metadata": {},
   "outputs": [],
   "source": [
    "# Create a clean DataFrame by dropping the duplicate mouse by its ID.\n"
   ]
  },
  {
   "cell_type": "code",
   "execution_count": 6,
   "metadata": {},
   "outputs": [],
   "source": [
    "# Checking the number of mice in the clean DataFrame.\n"
   ]
  },
  {
   "cell_type": "markdown",
   "metadata": {},
   "source": [
    "## Summary Statistics"
   ]
  },
  {
   "cell_type": "code",
   "execution_count": 7,
   "metadata": {},
   "outputs": [],
   "source": [
    "# Generate a summary statistics table of mean, median, variance, standard deviation, and SEM of the tumor volume for each regimen\n",
    "\n",
    "# Use groupby and summary statistical methods to calculate the following properties of each drug regimen: \n",
    "# mean, median, variance, standard deviation, and SEM of the tumor volume. \n",
    "# Assemble the resulting series into a single summary dataframe.\n",
    "\n"
   ]
  },
  {
   "cell_type": "code",
   "execution_count": 8,
   "metadata": {},
   "outputs": [],
   "source": [
    "# Generate a summary statistics table of mean, median, variance, standard deviation, and SEM of the tumor volume for each regimen\n",
    "\n",
    "# Using the aggregation method, produce the same summary statistics in a single line\n"
   ]
  },
  {
   "cell_type": "markdown",
   "metadata": {},
   "source": [
    "## Bar and Pie Charts"
   ]
  },
  {
   "cell_type": "code",
   "execution_count": 9,
   "metadata": {},
   "outputs": [],
   "source": [
    "# Generate a bar plot showing the total number of unique mice tested on each drug regimen using pandas.\n",
    "\n"
   ]
  },
  {
   "cell_type": "code",
   "execution_count": 10,
   "metadata": {},
   "outputs": [],
   "source": [
    "# Generate a bar plot showing the total number of unique mice tested on each drug regimen using pyplot.\n",
    "\n"
   ]
  },
  {
   "cell_type": "code",
   "execution_count": 11,
   "metadata": {},
   "outputs": [],
   "source": [
    "# Generate a pie plot showing the distribution of female versus male mice using pandas\n",
    "\n"
   ]
  },
  {
   "cell_type": "code",
   "execution_count": 12,
   "metadata": {},
   "outputs": [],
   "source": [
    "# Generate a pie plot showing the distribution of female versus male mice using pyplot\n",
    "\n"
   ]
  },
  {
   "cell_type": "markdown",
   "metadata": {},
   "source": [
    "## Quartiles, Outliers and Boxplots"
   ]
  },
  {
   "cell_type": "code",
   "execution_count": 13,
   "metadata": {},
   "outputs": [],
   "source": [
    "# Calculate the final tumor volume of each mouse across four of the treatment regimens:  \n",
    "# Capomulin, Ramicane, Infubinol, and Ceftamin\n",
    "\n",
    "# Start by getting the last (greatest) timepoint for each mouse\n",
    "\n",
    "\n",
    "# Merge this group df with the original dataframe to get the tumor volume at the last timepoint\n"
   ]
  },
  {
   "cell_type": "code",
   "execution_count": 14,
   "metadata": {},
   "outputs": [],
   "source": [
    "# Put treatments into a list for for loop (and later for plot labels)\n",
    "\n",
    "\n",
    "# Create empty list to fill with tumor vol data (for plotting)\n",
    "\n",
    "\n",
    "# Calculate the IQR and quantitatively determine if there are any potential outliers. \n",
    "\n",
    "    \n",
    "    # Locate the rows which contain mice on each drug and get the tumor volumes\n",
    "    \n",
    "    \n",
    "    # add subset \n",
    "    \n",
    "    \n",
    "    # Determine outliers using upper and lower bounds\n",
    "    "
   ]
  },
  {
   "cell_type": "code",
   "execution_count": 15,
   "metadata": {},
   "outputs": [],
   "source": [
    "# Generate a box plot of the final tumor volume of each mouse across four regimens of interest\n"
   ]
  },
  {
   "cell_type": "markdown",
   "metadata": {},
   "source": [
    "## Line and Scatter Plots"
   ]
  },
  {
   "cell_type": "code",
   "execution_count": 16,
   "metadata": {},
   "outputs": [],
   "source": [
    "# Generate a line plot of tumor volume vs. time point for a mouse treated with Capomulin\n"
   ]
  },
  {
   "cell_type": "code",
   "execution_count": 17,
   "metadata": {},
   "outputs": [],
   "source": [
    "# Generate a scatter plot of average tumor volume vs. mouse weight for the Capomulin regimen\n"
   ]
  },
  {
   "cell_type": "markdown",
   "metadata": {},
   "source": [
    "## Correlation and Regression"
   ]
  },
  {
   "cell_type": "code",
   "execution_count": 18,
   "metadata": {},
   "outputs": [],
   "source": [
    "# Calculate the correlation coefficient and linear regression model \n",
    "# for mouse weight and average tumor volume for the Capomulin regimen\n"
   ]
  },
  {
   "cell_type": "code",
   "execution_count": null,
   "metadata": {},
   "outputs": [],
   "source": []
  }
 ],
 "metadata": {
  "anaconda-cloud": {},
  "kernelspec": {
   "display_name": "Python 3",
   "language": "python",
   "name": "python3"
  },
  "language_info": {
   "codemirror_mode": {
    "name": "ipython",
    "version": 3
   },
   "file_extension": ".py",
   "mimetype": "text/x-python",
   "name": "python",
   "nbconvert_exporter": "python",
   "pygments_lexer": "ipython3",
   "version": "3.8.3-final"
  }
 },
 "nbformat": 4,
 "nbformat_minor": 4
}